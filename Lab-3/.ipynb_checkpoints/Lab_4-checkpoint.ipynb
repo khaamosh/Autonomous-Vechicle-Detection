{
 "cells": [
  {
   "cell_type": "code",
   "execution_count": 1,
   "metadata": {},
   "outputs": [],
   "source": [
    "#Code for the Lab 4"
   ]
  },
  {
   "cell_type": "code",
   "execution_count": 2,
   "metadata": {},
   "outputs": [],
   "source": [
    "import tensorflow as tf\n",
    "import sklearn as sk\n",
    "import numpy as np\n",
    "import matplotlib.pyplot as plt\n",
    "\n",
    "from sklearn.neighbors import KNeighborsClassifier as KNN_Classifier\n",
    "from sklearn.linear_model import SGDClassifier as SGD\n",
    "from sklearn.tree import DecisionTreeClassifier as DT\n",
    "from sklearn import metrics"
   ]
  },
  {
   "cell_type": "markdown",
   "metadata": {},
   "source": [
    "### Dataset for the Lab is being refered here"
   ]
  },
  {
   "cell_type": "code",
   "execution_count": 3,
   "metadata": {},
   "outputs": [],
   "source": [
    "#dataset for the lab\n",
    "fashion_mnist = tf.keras.datasets.fashion_mnist"
   ]
  },
  {
   "cell_type": "code",
   "execution_count": 4,
   "metadata": {},
   "outputs": [],
   "source": [
    "#now we will first load the data set\n",
    "# [1] - Ref :: https://www.tensorflow.org/datasets/catalog/fashion_mnist\n",
    "\n",
    "(train_x, train_y) , (test_X , test_Y) = fashion_mnist.load_data()"
   ]
  },
  {
   "cell_type": "markdown",
   "metadata": {},
   "source": [
    "### Splitting out the data set as per the specs"
   ]
  },
  {
   "cell_type": "code",
   "execution_count": 5,
   "metadata": {},
   "outputs": [],
   "source": [
    "# as per the spec of the lab, we will split the data into test and train subset.\n",
    "\n",
    "#for training data\n",
    "train_x = train_x[:2000,:,:]\n",
    "train_y = train_y[:2000]\n",
    "\n",
    "#for test data\n",
    "test_X = test_X[:500,:,:]\n",
    "test_Y = test_Y[:500]"
   ]
  },
  {
   "cell_type": "markdown",
   "metadata": {},
   "source": [
    "### Reshaping the data set from 3D to 2D"
   ]
  },
  {
   "cell_type": "code",
   "execution_count": 6,
   "metadata": {},
   "outputs": [
    {
     "name": "stdout",
     "output_type": "stream",
     "text": [
      "(2000, 28, 28)\n",
      "(2000, 784)\n"
     ]
    }
   ],
   "source": [
    "#for the changing the shape of the data \n",
    "print(train_x.shape)\n",
    "\n",
    "#now this image is of the form of 3D and needs to be converted to 2D or flattened.\n",
    "train_x = np.reshape(train_x,(2000,-1))\n",
    "print(train_x.shape)"
   ]
  },
  {
   "cell_type": "code",
   "execution_count": 7,
   "metadata": {},
   "outputs": [
    {
     "name": "stdout",
     "output_type": "stream",
     "text": [
      "(500, 28, 28)\n",
      "(500, 784)\n"
     ]
    }
   ],
   "source": [
    "#reshaping the test data here\n",
    "print(test_X.shape)\n",
    "\n",
    "#reshaping the test_X for the model\n",
    "test_X = np.reshape(test_X,(500,-1))\n",
    "print(test_X.shape)"
   ]
  },
  {
   "cell_type": "markdown",
   "metadata": {},
   "source": [
    "### Now executing the models"
   ]
  },
  {
   "cell_type": "markdown",
   "metadata": {},
   "source": [
    "### KNN Model "
   ]
  },
  {
   "cell_type": "code",
   "execution_count": 8,
   "metadata": {},
   "outputs": [],
   "source": [
    "#KNN model\n",
    "\n",
    "#3 neighbours as specified in the lab specs\n",
    "knn_model = KNN_Classifier(n_neighbors=3)\n",
    "\n",
    "#fitting the model\n",
    "knn_model = knn_model.fit(train_x, train_y)\n",
    "\n",
    "#predictions from the model\n",
    "knn_pred = knn_model.predict(test_X)\n"
   ]
  },
  {
   "cell_type": "markdown",
   "metadata": {},
   "source": [
    "##### Accuracy for the KNN"
   ]
  },
  {
   "cell_type": "code",
   "execution_count": 9,
   "metadata": {},
   "outputs": [
    {
     "name": "stdout",
     "output_type": "stream",
     "text": [
      "0.792\n"
     ]
    }
   ],
   "source": [
    "#printing the accuracy for the model here\n",
    "knn_accuracy = metrics.accuracy_score(test_Y,knn_pred)\n",
    "\n",
    "print(knn_accuracy)"
   ]
  },
  {
   "cell_type": "markdown",
   "metadata": {},
   "source": [
    "##### KNN Report for the classifier"
   ]
  },
  {
   "cell_type": "code",
   "execution_count": 10,
   "metadata": {},
   "outputs": [
    {
     "name": "stdout",
     "output_type": "stream",
     "text": [
      "              precision    recall  f1-score   support\n",
      "\n",
      "  Ankle boot       0.77      0.84      0.80        55\n",
      "         Bag       0.93      0.98      0.95        52\n",
      "        Coat       0.61      0.66      0.64        65\n",
      "       Dress       0.80      0.80      0.80        46\n",
      "    Pullover       0.70      0.54      0.61        57\n",
      "     Sneaker       0.94      0.85      0.89        39\n",
      "       Shirt       0.49      0.53      0.51        47\n",
      "      Sandal       0.90      0.91      0.91        47\n",
      " T_shirt/top       1.00      0.93      0.96        44\n",
      "     Trouser       0.92      0.96      0.94        48\n",
      "\n",
      "    accuracy                           0.79       500\n",
      "   macro avg       0.81      0.80      0.80       500\n",
      "weighted avg       0.80      0.79      0.79       500\n",
      "\n"
     ]
    }
   ],
   "source": [
    "#printing the report for KNN classifier\n",
    "\n",
    "classes = [\"Ankle boot\", \"Bag\", \"Coat\" , \"Dress\", \"Pullover\",\"Sneaker\",\"Shirt\",\"Sandal\",\"T_shirt/top\",\"Trouser\"]\n",
    "knn_report = metrics.classification_report(test_Y,knn_pred,target_names = classes)\n",
    "\n",
    "print(knn_report)"
   ]
  },
  {
   "cell_type": "markdown",
   "metadata": {},
   "source": [
    "##### Confusion Matrix for the KNN"
   ]
  },
  {
   "cell_type": "code",
   "execution_count": 11,
   "metadata": {},
   "outputs": [
    {
     "data": {
      "image/png": "[encoded data removed]",
      "text/plain": [
       "<Figure size 432x288 with 2 Axes>"
      ]
     },
     "metadata": {
      "needs_background": "light"
     },
     "output_type": "display_data"
    }
   ],
   "source": [
    "#printing the confusion matrix for the KNN Model\n",
    "knn_confusion_matrix = metrics.plot_confusion_matrix(knn_model,test_X,test_Y,display_labels=classes,xticks_rotation = 'vertical')"
   ]
  },
  {
   "cell_type": "markdown",
   "metadata": {},
   "source": [
    "### SGD Classifier"
   ]
  },
  {
   "cell_type": "code",
   "execution_count": 12,
   "metadata": {},
   "outputs": [],
   "source": [
    "#for SGD classifier\n",
    "\n",
    "#for SGD model\n",
    "sgd_model = SGD(max_iter=250)\n",
    "\n",
    "#fitting the model to the data\n",
    "sgd_model = sgd_model.fit(train_x, train_y)\n",
    "\n",
    "#the predictions for the model\n",
    "sgd_pred = sgd_model.predict(test_X)"
   ]
  },
  {
   "cell_type": "markdown",
   "metadata": {},
   "source": [
    "##### Accuracy for the SGD"
   ]
  },
  {
   "cell_type": "code",
   "execution_count": 13,
   "metadata": {},
   "outputs": [
    {
     "name": "stdout",
     "output_type": "stream",
     "text": [
      "0.804\n"
     ]
    }
   ],
   "source": [
    "#checking the accuracy of the model\n",
    "sgd_accuracy = metrics.accuracy_score(test_Y, sgd_pred)\n",
    "print(sgd_accuracy)"
   ]
  },
  {
   "cell_type": "markdown",
   "metadata": {},
   "source": [
    "##### Classification Report for the SGD"
   ]
  },
  {
   "cell_type": "code",
   "execution_count": 14,
   "metadata": {},
   "outputs": [
    {
     "name": "stdout",
     "output_type": "stream",
     "text": [
      "              precision    recall  f1-score   support\n",
      "\n",
      "  Ankle boot       0.87      0.82      0.84        55\n",
      "         Bag       0.98      0.96      0.97        52\n",
      "        Coat       0.70      0.65      0.67        65\n",
      "       Dress       0.60      0.93      0.73        46\n",
      "    Pullover       0.77      0.60      0.67        57\n",
      "     Sneaker       0.95      0.97      0.96        39\n",
      "       Shirt       0.50      0.47      0.48        47\n",
      "      Sandal       0.88      0.96      0.92        47\n",
      " T_shirt/top       0.95      0.91      0.93        44\n",
      "     Trouser       0.98      0.90      0.93        48\n",
      "\n",
      "    accuracy                           0.80       500\n",
      "   macro avg       0.82      0.82      0.81       500\n",
      "weighted avg       0.81      0.80      0.80       500\n",
      "\n"
     ]
    }
   ],
   "source": [
    "\n",
    "sgd_report = metrics.classification_report(test_Y, sgd_pred, target_names = classes)\n",
    "\n",
    "print(sgd_report)"
   ]
  },
  {
   "cell_type": "markdown",
   "metadata": {},
   "source": [
    "##### Confusion Matrix for SGD"
   ]
  },
  {
   "cell_type": "code",
   "execution_count": 15,
   "metadata": {},
   "outputs": [
    {
     "data": {
      "image/png": "[encoded data removed]",
      "text/plain": [
       "<Figure size 432x288 with 2 Axes>"
      ]
     },
     "metadata": {
      "needs_background": "light"
     },
     "output_type": "display_data"
    }
   ],
   "source": [
    "sgd_confusion_matrix = metrics.plot_confusion_matrix(sgd_model,test_X,test_Y,display_labels=classes,xticks_rotation = 'vertical')\n"
   ]
  },
  {
   "cell_type": "markdown",
   "metadata": {},
   "source": [
    "### Descision Tree Classifier"
   ]
  },
  {
   "cell_type": "code",
   "execution_count": 16,
   "metadata": {},
   "outputs": [],
   "source": [
    "#for the DT model.\n",
    "\n",
    "dt_model = DT()\n",
    "\n",
    "#training the model\n",
    "dt_model = dt_model.fit(train_x , train_y)\n",
    "\n",
    "#predictions on the model\n",
    "dt_pred = dt_model.predict(test_X)\n"
   ]
  },
  {
   "cell_type": "markdown",
   "metadata": {},
   "source": [
    "##### Accuracy for the DT"
   ]
  },
  {
   "cell_type": "code",
   "execution_count": 17,
   "metadata": {},
   "outputs": [
    {
     "name": "stdout",
     "output_type": "stream",
     "text": [
      "0.71\n"
     ]
    }
   ],
   "source": [
    "dt_accuracy = metrics.accuracy_score(test_Y, dt_pred)\n",
    "\n",
    "print(dt_accuracy)"
   ]
  },
  {
   "cell_type": "markdown",
   "metadata": {},
   "source": [
    "##### Classification Report for DT"
   ]
  },
  {
   "cell_type": "code",
   "execution_count": 18,
   "metadata": {},
   "outputs": [
    {
     "name": "stdout",
     "output_type": "stream",
     "text": [
      "              precision    recall  f1-score   support\n",
      "\n",
      "  Ankle boot       0.84      0.76      0.80        55\n",
      "         Bag       0.89      0.90      0.90        52\n",
      "        Coat       0.56      0.52      0.54        65\n",
      "       Dress       0.62      0.74      0.67        46\n",
      "    Pullover       0.56      0.44      0.49        57\n",
      "     Sneaker       0.79      0.87      0.83        39\n",
      "       Shirt       0.40      0.47      0.43        47\n",
      "      Sandal       0.84      0.91      0.88        47\n",
      " T_shirt/top       0.89      0.75      0.81        44\n",
      "     Trouser       0.82      0.85      0.84        48\n",
      "\n",
      "    accuracy                           0.71       500\n",
      "   macro avg       0.72      0.72      0.72       500\n",
      "weighted avg       0.71      0.71      0.71       500\n",
      "\n"
     ]
    }
   ],
   "source": [
    "dt_report  = metrics.classification_report(test_Y, dt_pred, target_names = classes)\n",
    "\n",
    "print(dt_report)"
   ]
  },
  {
   "cell_type": "markdown",
   "metadata": {},
   "source": [
    "##### Confusion Matrix for DT"
   ]
  },
  {
   "cell_type": "code",
   "execution_count": 19,
   "metadata": {},
   "outputs": [
    {
     "data": {
      "image/png": "[encoded data removed]",
      "text/plain": [
       "<Figure size 432x288 with 2 Axes>"
      ]
     },
     "metadata": {
      "needs_background": "light"
     },
     "output_type": "display_data"
    }
   ],
   "source": [
    "dt_confusion_matrix = metrics.plot_confusion_matrix(dt_model,test_X,test_Y,display_labels=classes,xticks_rotation = 'vertical')"
   ]
  },
  {
   "cell_type": "code",
   "execution_count": null,
   "metadata": {},
   "outputs": [],
   "source": []
  }
 ],
 "metadata": {
  "kernelspec": {
   "display_name": "Python 3",
   "language": "python",
   "name": "python3"
  },
  "language_info": {
   "codemirror_mode": {
    "name": "ipython",
    "version": 3
   },
   "file_extension": ".py",
   "mimetype": "text/x-python",
   "name": "python",
   "nbconvert_exporter": "python",
   "pygments_lexer": "ipython3",
   "version": "3.8.8"
  }
 },
 "nbformat": 4,
 "nbformat_minor": 4
}
