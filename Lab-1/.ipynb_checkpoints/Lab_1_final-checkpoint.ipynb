{
 "cells": [
  {
   "cell_type": "code",
   "execution_count": 1,
   "metadata": {},
   "outputs": [],
   "source": [
    "#importing the libraries for the notebook\n",
    "\n",
    "import matplotlib.pyplot as plt\n",
    "import cv2\n",
    "import numpy as np"
   ]
  },
  {
   "cell_type": "markdown",
   "metadata": {},
   "source": [
    "**Question 1 : Contrast strecthing for the lab**"
   ]
  },
  {
   "cell_type": "markdown",
   "metadata": {},
   "source": [
    "**Note :: The file chould be in the same directory as that of the python notebook and the name should be \n",
    "\n",
    "**cat.png**"
   ]
  },
  {
   "cell_type": "markdown",
   "metadata": {},
   "source": [
    "**Following is the list of the files created**\n",
    "\n",
    "1. contrast_image -> for contrast strectching\n",
    "\n",
    "2. Mean_Filter_Image -> for mean filtering\n",
    "3. Median_Filter_Image -> for median filtering\n",
    "\n",
    "4. Lab_Sobel_x -> for creating Sobel x gradient with my function\n",
    "5. CV_Sobel_X -> Sobel_x gradient using the CV sobel library\n",
    "\n",
    "6. Lab_Sobel_y -> for creating Sobel y gradient using my function\n",
    "7. CV_Sobel_y -> Sobel_y gradient using the CV sobel library"
   ]
  },
  {
   "cell_type": "code",
   "execution_count": 2,
   "metadata": {},
   "outputs": [],
   "source": [
    "#Question 1 of the Lab assignment - Contrast Stretching\n",
    "\n",
    "#reading the image and displaying the original\n",
    "q1_input = cv2.imread(\"cat.png\",cv2.IMREAD_GRAYSCALE)\n",
    "\n",
    "#plt.imshow(cv2.cvtColor(q1_input, cv2.COLOR_BGR2RGB))\n",
    "#plt.show()"
   ]
  },
  {
   "cell_type": "code",
   "execution_count": 3,
   "metadata": {},
   "outputs": [],
   "source": [
    "#now attempting to contrast stretch the image\n",
    "#now we have to use the formula given the lab specs\n",
    "# using numpy and dot product, we can perform this operation.\n",
    "\n",
    "#Note another benefit of matplot is that it gives a scale that helps in estimation\n",
    "\n",
    "#getting the values for the formula of contrast\n",
    "\n",
    "\n",
    "\n",
    "a = 0\n",
    "b = 255\n",
    "\n",
    "c = np.min(q1_input).astype(np.uint8)\n",
    "d = np.max(q1_input).astype(np.uint8)\n",
    "\n",
    "#using the formula for given in the Lab \n",
    "contrast_image = np.dot( (q1_input - c),(b-a)/(d-c) + a)\n",
    "\n",
    "#saving the image\n",
    "cv2.imwrite('contrast_image.jpg',contrast_image)\n",
    "\n",
    "contrast_image = contrast_image.astype('uint8')\n",
    "\n",
    "#show the image\n",
    "#plt.imshow(cv2.cvtColor(contrast_image,cv2.COLOR_BGR2RGB))\n",
    "\n"
   ]
  },
  {
   "cell_type": "markdown",
   "metadata": {},
   "source": [
    "**Question 2 : Histograms for the image**"
   ]
  },
  {
   "cell_type": "code",
   "execution_count": 4,
   "metadata": {},
   "outputs": [
    {
     "data": {
      "image/png": "[encoded data removed]",
      "text/plain": [
       "<Figure size 432x288 with 1 Axes>"
      ]
     },
     "metadata": {
      "needs_background": "light"
     },
     "output_type": "display_data"
    }
   ],
   "source": [
    "#Question 2 for the Lab \n",
    "#Plotting the histograms of the image and checking them\n",
    "\n",
    "count_values = [ i for i in range(0,255)]\n",
    "\n",
    "plt.hist(q1_input.ravel(),count_values)\n",
    "plt.title(\"Original Image\")\n",
    "plt.show()"
   ]
  },
  {
   "cell_type": "code",
   "execution_count": 5,
   "metadata": {},
   "outputs": [
    {
     "data": {
      "image/png": "[encoded data removed]",
      "text/plain": [
       "<Figure size 432x288 with 1 Axes>"
      ]
     },
     "metadata": {
      "needs_background": "light"
     },
     "output_type": "display_data"
    }
   ],
   "source": [
    "count_values = [ i for i in range(0,255)]\n",
    "\n",
    "plt.hist(contrast_image.ravel(),count_values)\n",
    "plt.title(\"Contrast Stretch Image\")\n",
    "plt.show()"
   ]
  },
  {
   "cell_type": "markdown",
   "metadata": {},
   "source": [
    "**Question 3 : Filters for the lab**"
   ]
  },
  {
   "cell_type": "code",
   "execution_count": 6,
   "metadata": {},
   "outputs": [],
   "source": [
    "#Question 3 of the Lab\n",
    "\n",
    "#first padding the image \n",
    "padded_image = np.pad(contrast_image,(1,1),'edge')\n",
    "\n",
    "#getting the dimensions of the contrast image\n",
    "dim = contrast_image.shape\n",
    "\n",
    "#this is the mean filter output image\n",
    "q3_output_image = np.zeros(dim)"
   ]
  },
  {
   "cell_type": "code",
   "execution_count": 7,
   "metadata": {},
   "outputs": [],
   "source": [
    "\n",
    "def cv_filter_convolution(output, contrast_image,padded_image,val_switch):\n",
    "    \n",
    "    for y in range(1,contrast_image.shape[1]):\n",
    "        for x in range(1,contrast_image.shape[0]):\n",
    "            \n",
    "            if val_switch == 'mean':\n",
    "                output[x,y] = int(np.mean(padded_image[x-1:x+2,y-1:y+2]))\n",
    "            elif val_switch == 'median' :\n",
    "                output[x,y] = int(np.median(padded_image[x-1:x+2,y-1:y+2]))\n",
    "    \n",
    "    return output \n",
    "                \n",
    "    "
   ]
  },
  {
   "cell_type": "code",
   "execution_count": 8,
   "metadata": {},
   "outputs": [],
   "source": [
    "q3_output_image = cv_filter_convolution(q3_output_image,contrast_image, padded_image,val_switch = 'mean')"
   ]
  },
  {
   "cell_type": "code",
   "execution_count": 9,
   "metadata": {},
   "outputs": [
    {
     "data": {
      "text/plain": [
       "True"
      ]
     },
     "execution_count": 9,
     "metadata": {},
     "output_type": "execute_result"
    }
   ],
   "source": [
    "q3_output_image = q3_output_image.astype('uint8')\n",
    "\n",
    "#show the image\n",
    "#plt.imshow(cv2.cvtColor(q3_output_image,cv2.COLOR_BGR2RGB))\n",
    "\n",
    "#mean filter image\n",
    "cv2.imwrite('Mean_Filter_Image.jpg',q3_output_image)"
   ]
  },
  {
   "cell_type": "code",
   "execution_count": 10,
   "metadata": {},
   "outputs": [],
   "source": [
    "# performing the median filter to the image\n",
    "q3_median_output_image = np.zeros(dim)\n",
    "\n",
    "q3_median_output_image = cv_filter_convolution(q3_median_output_image,contrast_image, padded_image,val_switch = 'median')"
   ]
  },
  {
   "cell_type": "code",
   "execution_count": 11,
   "metadata": {},
   "outputs": [
    {
     "data": {
      "text/plain": [
       "True"
      ]
     },
     "execution_count": 11,
     "metadata": {},
     "output_type": "execute_result"
    }
   ],
   "source": [
    "#the median output of the image \n",
    "q3_median_output_image = q3_median_output_image.astype('uint8')\n",
    "\n",
    "#show the image\n",
    "#plt.imshow(cv2.cvtColor(q3_median_output_image,cv2.COLOR_BGR2RGB))\n",
    "\n",
    "#saving the image\n",
    "cv2.imwrite('Median_Filter_Image.jpg',q3_median_output_image)"
   ]
  },
  {
   "cell_type": "markdown",
   "metadata": {},
   "source": [
    "**Question 4 : Sobel Operator for computing gradients**"
   ]
  },
  {
   "cell_type": "code",
   "execution_count": 12,
   "metadata": {},
   "outputs": [],
   "source": [
    "#Now we will begin with the question 4\n",
    "\n",
    "f_x = np.array ((\n",
    "                [-1,0,1],\n",
    "                [-2,0,2],\n",
    "                [-1,0,1],\n",
    "))\n",
    "\n",
    "\n",
    "f_y = np.array((\n",
    "        [-1,-2,-1],\n",
    "        [0,0,0],\n",
    "        [1,2,1],\n",
    "))"
   ]
  },
  {
   "cell_type": "code",
   "execution_count": 13,
   "metadata": {},
   "outputs": [],
   "source": [
    "#padding the output image before convulation this is the output of the median\n",
    "padded_image = np.pad(q3_median_output_image,(1,1),'edge')\n",
    "\n",
    "\n",
    "q4_output = np.zeros(q3_median_output_image.shape)\n",
    "\n",
    "\n",
    "#for Sobel x and Sobel y\n",
    "\n",
    "val_x = np.zeros(q3_median_output_image.shape)\n",
    "val_y = np.zeros(q3_median_output_image.shape)"
   ]
  },
  {
   "cell_type": "code",
   "execution_count": 14,
   "metadata": {},
   "outputs": [],
   "source": [
    "def Sobel_function(output, kernel,padded_image,contrast_image):\n",
    "    \n",
    "    for y in range(1,contrast_image.shape[1]):\n",
    "        for x in range(1,contrast_image.shape[0]):\n",
    "            output[x,y] = (kernel * padded_image[x-1:x+2,y-1:y+2]).sum()\n",
    "    \n",
    "    return output\n",
    "    "
   ]
  },
  {
   "cell_type": "code",
   "execution_count": 15,
   "metadata": {},
   "outputs": [],
   "source": [
    "val_x = Sobel_function(val_x,f_x,padded_image,contrast_image)"
   ]
  },
  {
   "cell_type": "code",
   "execution_count": 16,
   "metadata": {},
   "outputs": [
    {
     "data": {
      "text/plain": [
       "True"
      ]
     },
     "execution_count": 16,
     "metadata": {},
     "output_type": "execute_result"
    }
   ],
   "source": [
    "# Sobel image for the x axis\n",
    "\n",
    "cv2.imwrite('Lab_Sobel_x.jpg',val_x)"
   ]
  },
  {
   "cell_type": "code",
   "execution_count": 17,
   "metadata": {},
   "outputs": [
    {
     "data": {
      "text/plain": [
       "True"
      ]
     },
     "execution_count": 17,
     "metadata": {},
     "output_type": "execute_result"
    }
   ],
   "source": [
    "#now executing the Sobel for x axis via the cv2 library\n",
    "grad_x = cv2.Sobel(q3_median_output_image,cv2.CV_64F,1,0,ksize=3)\n",
    "\n",
    "cv2.imwrite('CV_Sobel_x.jpg',grad_x)"
   ]
  },
  {
   "cell_type": "code",
   "execution_count": 18,
   "metadata": {},
   "outputs": [],
   "source": [
    "val_y = Sobel_function(val_y,f_y,padded_image,contrast_image)"
   ]
  },
  {
   "cell_type": "code",
   "execution_count": 19,
   "metadata": {},
   "outputs": [
    {
     "data": {
      "text/plain": [
       "True"
      ]
     },
     "execution_count": 19,
     "metadata": {},
     "output_type": "execute_result"
    }
   ],
   "source": [
    "#Saving the file\n",
    "cv2.imwrite('Lab_Sobel_y.jpg',val_y)"
   ]
  },
  {
   "cell_type": "code",
   "execution_count": 20,
   "metadata": {},
   "outputs": [],
   "source": [
    "#now executing the Sobel via the cv2 libary\n",
    "\n",
    "grad_y = cv2.Sobel(q3_median_output_image,cv2.CV_64F,0,1,ksize=3)"
   ]
  },
  {
   "cell_type": "code",
   "execution_count": 21,
   "metadata": {},
   "outputs": [
    {
     "data": {
      "text/plain": [
       "True"
      ]
     },
     "execution_count": 21,
     "metadata": {},
     "output_type": "execute_result"
    }
   ],
   "source": [
    "cv2.imwrite('CV_Sobel_y.jpg',grad_y)"
   ]
  },
  {
   "cell_type": "code",
   "execution_count": null,
   "metadata": {},
   "outputs": [],
   "source": []
  }
 ],
 "metadata": {
  "kernelspec": {
   "display_name": "Python 3",
   "language": "python",
   "name": "python3"
  },
  "language_info": {
   "codemirror_mode": {
    "name": "ipython",
    "version": 3
   },
   "file_extension": ".py",
   "mimetype": "text/x-python",
   "name": "python",
   "nbconvert_exporter": "python",
   "pygments_lexer": "ipython3",
   "version": "3.8.3"
  }
 },
 "nbformat": 4,
 "nbformat_minor": 4
}
