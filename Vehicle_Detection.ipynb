{
 "cells": [
  {
   "cell_type": "code",
   "execution_count": 1,
   "metadata": {},
   "outputs": [],
   "source": [
    "#the import calls for the libraries being used by the solution\n",
    "import matplotlib.pyplot as plt\n",
    "import cv2\n",
    "\n",
    "import numpy as np\n",
    "from skimage.feature import hog\n",
    "from skimage import data, exposure\n",
    "\n",
    "import json\n",
    "import os\n",
    "import random\n",
    "from scipy.ndimage.measurements import label\n",
    "\n",
    "from sklearn.model_selection import train_test_split\n",
    "from sklearn.preprocessing import StandardScaler\n",
    "\n",
    "from sklearn.svm import LinearSVC"
   ]
  },
  {
   "cell_type": "markdown",
   "metadata": {},
   "source": [
    "### Path Variables used for different functions"
   ]
  },
  {
   "cell_type": "code",
   "execution_count": 2,
   "metadata": {},
   "outputs": [],
   "source": [
    "#the variables for the path used for different sets of functions\n",
    "\n",
    "car_files_path = r\"cars\"\n",
    "not_cars_files_path = r\"not_cars\"\n",
    "\n",
    "#the current image of the dataset\n",
    "curr_image = cv2.imread(r\"C:\\Users\\UttkarshSharma\\Downloads\\benchmark_velocity_train\\clips\\102\\imgs\\040.jpg\")"
   ]
  },
  {
   "cell_type": "markdown",
   "metadata": {},
   "source": [
    "### Global variables for the model"
   ]
  },
  {
   "cell_type": "code",
   "execution_count": 3,
   "metadata": {},
   "outputs": [],
   "source": [
    "#the svm classifier used as a global variable\n",
    "global svm_clasifier\n",
    "\n",
    "#the standard scaler being used for normalization\n",
    "global standarad_scaler_X"
   ]
  },
  {
   "cell_type": "markdown",
   "metadata": {},
   "source": [
    "### Helper Functions"
   ]
  },
  {
   "cell_type": "code",
   "execution_count": 4,
   "metadata": {},
   "outputs": [],
   "source": [
    "def list_cars(path):\n",
    "    \n",
    "    #list varible storing the names of the files\n",
    "    car_list = []\n",
    "    \n",
    "    for root, dirs, files in os.walk(path, topdown=False):\n",
    "        car_list = files\n",
    "    \n",
    "    return car_list    "
   ]
  },
  {
   "cell_type": "code",
   "execution_count": 5,
   "metadata": {},
   "outputs": [],
   "source": [
    "def boxed_image(image,box_list, thickness = 3 , color=(0, 255, 0)):\n",
    "    \n",
    "    #derived from the nearby pixel of Kmeans and watershed CV2 lab.\n",
    "    #avoiding inmemory changes of the images, hence copy an image\n",
    "    box_image = np.copy(image)\n",
    "    \n",
    "    #iterating over the list of the boxes.\n",
    "    for box in box_list:\n",
    "        #using the cv2.rectangle for bounding boxes\n",
    "        cv2.rectangle(box_image, box[0] , box[1] , color, thickness)\n",
    "    \n",
    "    return box_image\n"
   ]
  },
  {
   "cell_type": "code",
   "execution_count": 6,
   "metadata": {},
   "outputs": [],
   "source": [
    "\n",
    "def heating_map(heat_information, car_list):\n",
    "    #derived from the nearby pixel of Kmeans and watershed CV2 lab.\n",
    "    #put all of the pixels in the car's box as 1 and rest will be zero.\n",
    "    \n",
    "    for car in car_list:\n",
    "        \n",
    "        heat_information[ car[0][1] : car[1][1] , car[0][0]: car[1][0] ] +=1\n",
    "    \n",
    "    return heat_information\n"
   ]
  },
  {
   "cell_type": "code",
   "execution_count": 7,
   "metadata": {},
   "outputs": [],
   "source": [
    "def image_threshold( image, threshold):\n",
    "    \n",
    "    image[ image <= threshold ] = 0\n",
    "    \n",
    "    return image\n"
   ]
  },
  {
   "cell_type": "code",
   "execution_count": 8,
   "metadata": {},
   "outputs": [],
   "source": [
    "\n",
    "def final_boxes_image(image, labels):\n",
    "    #REF - using scikit rectange documentation\n",
    "    \n",
    "    #we will have to iterate over the labels for the image\n",
    "    for cars in range(labels[1]+1):\n",
    "        \n",
    "        #now we will find the values of the labels \n",
    "        location_pix = ( labels[0] == cars).nonzero()\n",
    "        \n",
    "        #now this will have a combination of x and y and we need to find the max.\n",
    "        \n",
    "        #for the x axis\n",
    "        location_pix_Y = np.array(location_pix[0])\n",
    "        \n",
    "        #for the y axis\n",
    "        location_pix_X = np.array(location_pix[1])\n",
    "        \n",
    "        #now we need to find the co-ordinates covering the max area\n",
    "        location_X_min = np.min(location_pix_X)\n",
    "        location_X_max = np.max(location_pix_X)\n",
    "        \n",
    "        location_Y_min = np.min(location_pix_Y)\n",
    "        location_Y_max = np.max(location_pix_Y)\n",
    "        \n",
    "        #now we will use these to construct our x axis and y axis co-ordinates\n",
    "        box = ( ( location_X_min , location_Y_min) , ( location_X_max , location_Y_max))\n",
    "        \n",
    "        cv2.rectangle(image, box[0], box[1] , (0,0,255), 4 )\n",
    "    \n",
    "    return image\n"
   ]
  },
  {
   "cell_type": "markdown",
   "metadata": {},
   "source": [
    "### Main functions for the methodology"
   ]
  },
  {
   "cell_type": "markdown",
   "metadata": {},
   "source": [
    "1. This function is used to calculate the Hog Features for the image\n",
    "2. I am using the YCrCyB color space for extracting the hog features"
   ]
  },
  {
   "cell_type": "code",
   "execution_count": 9,
   "metadata": {},
   "outputs": [],
   "source": [
    "def hog_features(path):\n",
    "    \n",
    "    #Ref :: https://en.wikipedia.org/wiki/Histogram_of_oriented_gradients\n",
    "    \n",
    "    #feature list for hogs\n",
    "    feature_list = []\n",
    "    \n",
    "    #using the given path or root directory for the hog features.\n",
    "    list_car_files = list_cars(path)\n",
    "    \n",
    "    \n",
    "    for file in list_car_files:\n",
    "        \n",
    "        #the list for the hog features stored on a per channel basis.\n",
    "        hog_features = []\n",
    "        \n",
    "        #creating the path for the image\n",
    "        image_path = path + \"\\\\\" + file\n",
    "        \n",
    "        #we are converting the image to YCrCB so that we can run HOG features on it.\n",
    "        curr_image = cv2.imread(image_path,cv2.COLOR_RGB2YCrCb)\n",
    "        \n",
    "        #setting the same size for our samples.\n",
    "        width = 64\n",
    "        height = 64\n",
    "        \n",
    "        #the dimesnsoins for our image\n",
    "        dim = (width, height)\n",
    " \n",
    "        # resizing the image to standard size, and using interpolation for reduction in noise\n",
    "        resized = cv2.resize(curr_image, dim, interpolation = cv2.INTER_AREA)\n",
    "        \n",
    "        # we are running the hog features for all of the channels of the image\n",
    "        for channel in range(resized.shape[2]):\n",
    "            \n",
    "            #computing the hog features for one channel of the image.\n",
    "            hog_image = hog(resized[:,:,channel], orientations=9,pixels_per_cell=(8,8), cells_per_block =(2,2),visualize = False, feature_vector=True ,transform_sqrt=True ) \n",
    "            \n",
    "            #appending the hog features to the list.\n",
    "            hog_features.append(hog_image)\n",
    "        \n",
    "        #chaing the list to 1D array for the hog features.\n",
    "        hog_features = np.ravel(hog_features)\n",
    "        \n",
    "\n",
    "        feature_list.append(hog_features)\n",
    "    \n",
    "    return feature_list\n",
    "    "
   ]
  },
  {
   "cell_type": "code",
   "execution_count": null,
   "metadata": {},
   "outputs": [],
   "source": []
  },
  {
   "cell_type": "markdown",
   "metadata": {},
   "source": [
    "### Creating our Support Vector Machine for the classification of our images."
   ]
  },
  {
   "cell_type": "code",
   "execution_count": 10,
   "metadata": {},
   "outputs": [],
   "source": [
    "def classification_model_SVM(cars, not_cars):\n",
    "    \n",
    "    global svm_clasifier\n",
    "    global standarad_scaler_X\n",
    "    #i used numpy's vstack method for stacking my dataset of features.\n",
    "    input_X = np.vstack((cars, not_cars)).astype(np.float64)\n",
    "    \n",
    "    #printing the shape of the input features\n",
    "    print(input_X.shape)\n",
    "    \n",
    "    # i am using one hot encoding for the target dataset\n",
    "    target_y = np.hstack((np.ones(len(cars)), np.zeros(len(not_cars))))\n",
    "    \n",
    "    #printing the shape of the target of the feature datset\n",
    "    print(target_y.shape)\n",
    "    \n",
    "    #normalization of the dataset leveraging the standard scaler.\n",
    "    standarad_scaler_X = StandardScaler().fit(input_X)\n",
    "\n",
    "    # Apply the scaler to X\n",
    "    normalized_X = standarad_scaler_X.transform(input_X)\n",
    "    \n",
    "    #testing of the normalized data\n",
    "    print(normalized_X.shape)\n",
    "    \n",
    "    #randomizing the dataset and splitting it into train & test\n",
    "    rand_state = np.random.randint(0, 100)\n",
    "    X_train, X_test, y_train, y_test = train_test_split(normalized_X, target_y, test_size=0.2, random_state=rand_state)\n",
    "    \n",
    "    #printing the sizes for check\n",
    "    print(len(X_train))\n",
    "    print(len(y_train))\n",
    "    \n",
    "    #now we will run our SVM \n",
    "    svm_clasifier = LinearSVC()\n",
    "    \n",
    "    svm_clasifier.fit(X_train,y_train)\n",
    "    \n",
    "    # Check the score of the SVC\n",
    "    print('Test Accuracy of SVC = ', round(svm_clasifier.score(X_test, y_test), 4))\n",
    "    \n",
    "    #return standarad_scaler_X , svm_clasifier\n",
    "    "
   ]
  },
  {
   "cell_type": "code",
   "execution_count": 11,
   "metadata": {},
   "outputs": [],
   "source": [
    "def model_infra():\n",
    "    \n",
    "    car_features = hog_features(car_files_path)\n",
    "    not_car_features = hog_features(not_cars_files_path)\n",
    "    \n",
    "    print(\"Model being created and log-data\")\n",
    "    classification_model_SVM( car_features, not_car_features)\n",
    "    \n",
    "    "
   ]
  },
  {
   "cell_type": "code",
   "execution_count": 12,
   "metadata": {},
   "outputs": [],
   "source": [
    "#model_infra()"
   ]
  },
  {
   "cell_type": "code",
   "execution_count": null,
   "metadata": {},
   "outputs": [],
   "source": []
  },
  {
   "cell_type": "code",
   "execution_count": 13,
   "metadata": {},
   "outputs": [],
   "source": [
    "\n",
    "def sliding_windows(image, x_range, y_range, x_y, window_size):\n",
    "    #Ref :: https://medium.com/ai-quest/convolutional-implementation-of-the-sliding-window-algorithm-db93a49f99a0\n",
    "    \n",
    "#     image is our current image\n",
    "#     x_range: type tuple is the range of x_axis area of interest\n",
    "#     y_range : type tuple is the range of y_axis area of interest\n",
    "#     window size : type tuple is the size of the sliding window\n",
    "    \n",
    "    #the list which will store the co-ordinates of our sliding windows -> we will return this list\n",
    "    list_sliding_window = []\n",
    "    \n",
    "    #the size of the viewing window\n",
    "    view_length  = x_range[1] - x_range[0]\n",
    "    view_breadth = y_range[1] - y_range[0]\n",
    "    \n",
    "    #the number of windows present in the viewing windows\n",
    "        \n",
    "    #for the x-axis\n",
    "    delta_x = np.int(window_size[0] * x_y[0]) #this is taken to account for overlapping sections\n",
    "    \n",
    "    #number of pixels present in a single window_size\n",
    "    window_x_axis_pixels = np.int(window_size[0] * (1 - x_y[0]))\n",
    "    \n",
    "    #now we will caluclate the number of windows along the x axis(length) of the image\n",
    "    X_windows_num = np.int( (view_length - delta_x)/window_x_axis_pixels)\n",
    "    \n",
    "    #now we will compute for the y axis for our image\n",
    "    delta_y = np.int(window_size[1] * x_y[1])\n",
    "    \n",
    "    #numbe of pixels present in the y axis of the window.\n",
    "    window_y_axis_pixels = np.int( window_size[1] * (1 - x_y[1]))\n",
    "    \n",
    "    #computatation of the number of windows along the y axis of the image.\n",
    "    Y_windows_num = np.int( ( view_breadth - delta_y) / window_y_axis_pixels )\n",
    "    \n",
    "    #till now we have the co-ordinates for the windows for both the length and breadth of the image.\n",
    "    \n",
    "    for y in range(Y_windows_num):\n",
    "        for x in range(X_windows_num):\n",
    "            \n",
    "            # for the starting positions of our window.\n",
    "            x_begin = x * window_x_axis_pixels + x_range[0]\n",
    "            y_begin = y * window_y_axis_pixels + y_range[0]\n",
    "            \n",
    "            #for the ending positions\n",
    "            x_end = x_begin + window_size[0]\n",
    "            y_end = y_begin + window_size[1]\n",
    "            \n",
    "            list_sliding_window.append( ( ( x_begin,y_begin) , ( x_end , y_end )) )\n",
    "    \n",
    "    return list_sliding_window"
   ]
  },
  {
   "cell_type": "code",
   "execution_count": 14,
   "metadata": {},
   "outputs": [],
   "source": [
    "def list_sliding_windows(image):\n",
    "    \n",
    "    #Ref :: https://medium.com/ai-quest/convolutional-implementation-of-the-sliding-window-algorithm-db93a49f99a0\n",
    "    \n",
    "    list_windows_final = []\n",
    "    \n",
    "    #window size list\n",
    "    window_sizes = [ (20,20),(60,60),(72,72),(100,100)]\n",
    "    \n",
    "    #the heigh list for the varying windows\n",
    "    height_sizes = [(250,450) , (300,401) , (300,600) , (300,700)]\n",
    "    \n",
    "    #overlap window size\n",
    "    overlap_sizes = [ (0.1,0.1), (0.85, 0.85),(0.7,0.7),(0.8,0.8)]\n",
    "    \n",
    "    range_X = [(0,1250) , (0,1280),(0,1280),(0,1190)]\n",
    "    \n",
    "    #temporary sizes of the windows\n",
    "    temp_win_size = []\n",
    "    \n",
    "    #now we will iterate over our list\n",
    "    \n",
    "    for i in range(len(window_sizes)):\n",
    "        \n",
    "        #calling sliding windows to get the co-ordiantes of the windows\n",
    "        wind = sliding_windows(image, x_range = range_X[i] , y_range = height_sizes[i] , x_y = overlap_sizes[i], window_size = window_sizes[i])\n",
    "        temp_win_size.append(wind)\n",
    "    \n",
    "    #this list needs to be flattened for our analysis\n",
    "    list_windows_final = sum(temp_win_size, [])\n",
    "    \n",
    "    return list_windows_final\n",
    "    "
   ]
  },
  {
   "cell_type": "code",
   "execution_count": 15,
   "metadata": {},
   "outputs": [],
   "source": [
    "#temp = list_sliding_windows(curr_image)"
   ]
  },
  {
   "cell_type": "code",
   "execution_count": 16,
   "metadata": {},
   "outputs": [],
   "source": [
    "# img = boxed_image(curr_image,temp)"
   ]
  },
  {
   "cell_type": "code",
   "execution_count": 17,
   "metadata": {},
   "outputs": [],
   "source": [
    "# plt.imshow(img)"
   ]
  },
  {
   "cell_type": "code",
   "execution_count": 18,
   "metadata": {},
   "outputs": [],
   "source": [
    "#now we will do the classification of the window if there is car or not in the image\n",
    "def car_not_car(image, list_windows , normalized_sclaer, SVM_classifier):\n",
    "    \n",
    "    #Ref :: https://www.elen.ucl.ac.be/Proceedings/esann/esannpdf/es2017-112.pdf \n",
    "    \n",
    "    #the list having the possibility where cars are located.\n",
    "    list_cars = []\n",
    "    \n",
    "    #the current image needs to be converted to the color frame\n",
    "    image = cv2.cvtColor(image,cv2.COLOR_RGB2YCrCb)\n",
    "    #plt.imshow(image)\n",
    "    \n",
    "    #iterating over the list of windows that we had created.\n",
    "    for w in list_windows :\n",
    "        \n",
    "        #list for the fetures of the car.\n",
    "        car_features = []\n",
    "        \n",
    "        #creating a sub-sample from our image - based on the window size.\n",
    "        window = image[ w[0][1] : w[1][1] , w[0][0] : w[1][0] ]\n",
    "        \n",
    "        #standardization of the window\n",
    "        width = 64\n",
    "        height = 64\n",
    "        \n",
    "        #dimensions\n",
    "        dim = (width, height)\n",
    " \n",
    "        # resizing the image based on the window size \n",
    "        resized = cv2.resize(window, dim, interpolation = cv2.INTER_AREA)\n",
    "        \n",
    "        #list of the hog features \n",
    "        hog_features = []\n",
    "        \n",
    "        #running the hogs for all of the channels of the image.\n",
    "        for channel in range(resized.shape[2]):\n",
    "            \n",
    "            hog_image = hog(resized[:,:,channel], orientations=9,pixels_per_cell=(8,8), cells_per_block =(2,2),visualize = False, feature_vector=True ,transform_sqrt=True )     \n",
    "            hog_features.append(hog_image)\n",
    "        \n",
    "        #creating the 1D array for the features\n",
    "        hog_features = np.ravel(hog_features)\n",
    "        \n",
    "        #joining the features along the same axis\n",
    "        car_features.append(hog_features)\n",
    "        \n",
    "        #dimensionality match for the classifier \n",
    "        test_features = normalized_sclaer.transform(np.array(car_features).reshape(1, -1))\n",
    "        \n",
    "        prediction = SVM_classifier.predict(test_features)\n",
    "        \n",
    "        if prediction == 1:\n",
    "            #print(\"yes\")\n",
    "            list_cars.append(w)\n",
    "        \n",
    "    return list_cars\n",
    "        "
   ]
  },
  {
   "cell_type": "markdown",
   "metadata": {},
   "source": [
    "### The driver section of the problem is defined here"
   ]
  },
  {
   "cell_type": "code",
   "execution_count": 19,
   "metadata": {},
   "outputs": [],
   "source": [
    "#this is the current image 40th which will be passed to the function\n",
    "#curr_image = cv2.imread(r\"C:\\Users\\UttkarshSharma\\Downloads\\benchmark_velocity_train\\clips\\102\\imgs\\040.jpg\")"
   ]
  },
  {
   "cell_type": "markdown",
   "metadata": {},
   "source": [
    "### The creation of the model is done here"
   ]
  },
  {
   "cell_type": "code",
   "execution_count": 20,
   "metadata": {},
   "outputs": [
    {
     "name": "stdout",
     "output_type": "stream",
     "text": [
      "Model being created and log-data\n",
      "(9666, 5292)\n",
      "(9666,)\n",
      "(9666, 5292)\n",
      "7732\n",
      "7732\n"
     ]
    },
    {
     "name": "stderr",
     "output_type": "stream",
     "text": [
      "C:\\Users\\UttkarshSharma\\anaconda3\\lib\\site-packages\\sklearn\\svm\\_base.py:976: ConvergenceWarning: Liblinear failed to converge, increase the number of iterations.\n",
      "  warnings.warn(\"Liblinear failed to converge, increase \"\n"
     ]
    },
    {
     "name": "stdout",
     "output_type": "stream",
     "text": [
      "Test Accuracy of SVC =  0.9938\n"
     ]
    }
   ],
   "source": [
    "model_infra()"
   ]
  },
  {
   "cell_type": "markdown",
   "metadata": {},
   "source": [
    "### the driver method call is here"
   ]
  },
  {
   "cell_type": "code",
   "execution_count": 21,
   "metadata": {},
   "outputs": [],
   "source": [
    "def driver(image):\n",
    "    \n",
    "    #Ref https://www.elen.ucl.ac.be/Proceedings/esann/esannpdf/es2017-112.pdf \n",
    "    \n",
    "    #the list of the sliding windows for the model\n",
    "    temp = list_sliding_windows(curr_image)\n",
    "    \n",
    "    #the windows being superimposed on the model\n",
    "    img = boxed_image(curr_image,temp)\n",
    "    \n",
    "    plt.imshow(img)\n",
    "    \n",
    "    #finding the location of the windows where cars is present\n",
    "    cars = car_not_car(curr_image , temp, standarad_scaler_X , svm_clasifier)\n",
    "    \n",
    "    len(cars)\n",
    "    \n",
    "    #creating a mask using the dimensions of the image for the heat map\n",
    "    heat = np.zeros_like(curr_image[:,:,0]).astype(np.float)\n",
    "    \n",
    "    #using the windows and defining the heat\n",
    "    heat = heating_map(heat,cars)\n",
    "    \n",
    "    #using threshold to define the pixels.\n",
    "    heat = image_threshold(heat,2)\n",
    "\n",
    "    # using np.clip to normalize the data values for the heatmap.    \n",
    "    heatmap = np.clip(heat, 0, 255)\n",
    "    \n",
    "    #creation of the labels for the heatmap\n",
    "    labels = label(heatmap)\n",
    "    \n",
    "    #finding the pixels for the detected objects\n",
    "    detected_cars = final_boxes_image(np.copy(curr_image), labels)\n",
    "    \n",
    "    #displaying the image of the heatmap\n",
    "#     plt.imshow(heatmap, cmap='hot')\n",
    "#     plt.title('Heat Map')\n",
    "    \n",
    "    plt.imshow(detected_cars)\n",
    "    plt.title(\"Cars being detected\")\n",
    "    "
   ]
  },
  {
   "cell_type": "code",
   "execution_count": 22,
   "metadata": {},
   "outputs": [
    {
     "data": {
      "image/png": "[encoded data removed]",
      "text/plain": [
       "<Figure size 432x288 with 1 Axes>"
      ]
     },
     "metadata": {
      "needs_background": "light"
     },
     "output_type": "display_data"
    }
   ],
   "source": [
    "curr_image = cv2.imread(r\"C:\\Users\\UttkarshSharma\\Downloads\\benchmark_velocity_train\\clips\\1\\imgs\\040.jpg\")\n",
    "\n",
    "driver(curr_image)"
   ]
  },
  {
   "cell_type": "code",
   "execution_count": null,
   "metadata": {},
   "outputs": [],
   "source": []
  },
  {
   "cell_type": "code",
   "execution_count": null,
   "metadata": {},
   "outputs": [],
   "source": []
  },
  {
   "cell_type": "code",
   "execution_count": null,
   "metadata": {},
   "outputs": [],
   "source": []
  }
 ],
 "metadata": {
  "kernelspec": {
   "display_name": "Python 3",
   "language": "python",
   "name": "python3"
  },
  "language_info": {
   "codemirror_mode": {
    "name": "ipython",
    "version": 3
   },
   "file_extension": ".py",
   "mimetype": "text/x-python",
   "name": "python",
   "nbconvert_exporter": "python",
   "pygments_lexer": "ipython3",
   "version": "3.8.3"
  }
 },
 "nbformat": 4,
 "nbformat_minor": 4
}
